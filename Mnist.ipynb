{
 "cells": [
  {
   "cell_type": "code",
   "execution_count": 57,
   "metadata": {
    "collapsed": false
   },
   "outputs": [],
   "source": [
    "import matplotlib\n",
    "import matplotlib.pyplot as plt\n",
    "import matplotlib.cm as cm\n",
    "from urllib import urlretrieve\n",
    "import cPickle as pickle\n",
    "import os\n",
    "import gzip\n",
    "import numpy as np\n",
    "import theano\n",
    "import lasagne\n",
    "from lasagne import layers\n",
    "from lasagne.updates import nesterov_momentum\n",
    "from nolearn.lasagne import NeuralNet\n",
    "from nolearn.lasagne import visualize\n",
    "from sklearn.metrics import classification_report\n",
    "from sklearn.metrics import confusion_matrix\n",
    "%matplotlib inline"
   ]
  },
  {
   "cell_type": "code",
   "execution_count": 58,
   "metadata": {
    "collapsed": true
   },
   "outputs": [],
   "source": [
    "def load_dataset():\n",
    "    #url = 'http://deeplearning.net/data/mnist/mnist.pkl.gz'\n",
    "    filename = 'mnist.pkl.gz'\n",
    "    #if not os.path.exists(filename):\n",
    "        #print(\"Downloading MNIST dataset...\")\n",
    "        #urlretrieve(url, filename)\n",
    "\n",
    "    with gzip.open(filename, 'rb') as f:\n",
    "        data = pickle.load(f)\n",
    "\n",
    "    X_train, y_train = data[0]\n",
    "    X_val, y_val = data[1]\n",
    "    X_test, y_test = data[2]\n",
    "\n",
    "    X_train = X_train.reshape((-1, 1, 28, 28))\n",
    "    X_val = X_val.reshape((-1, 1, 28, 28))\n",
    "    X_test = X_test.reshape((-1, 1, 28, 28))\n",
    "\n",
    "    y_train = y_train.astype(np.uint8)\n",
    "    y_val = y_val.astype(np.uint8)\n",
    "    y_test = y_test.astype(np.uint8)\n",
    "\n",
    "    return X_train, y_train, X_val, y_val, X_test, y_test"
   ]
  },
  {
   "cell_type": "code",
   "execution_count": 59,
   "metadata": {
    "collapsed": false
   },
   "outputs": [
    {
     "data": {
      "text/plain": [
       "<matplotlib.image.AxesImage at 0x7f7853900dd0>"
      ]
     },
     "execution_count": 59,
     "metadata": {},
     "output_type": "execute_result"
    },
    {
     "data": {
      "image/png": "[encoded data removed]",
      "text/plain": [
       "<matplotlib.figure.Figure at 0x7f7834aad190>"
      ]
     },
     "metadata": {},
     "output_type": "display_data"
    }
   ],
   "source": [
    "X_train, y_train, X_val, y_val, X_test, y_test = load_dataset()\n",
    "plt.imshow(X_train[0][0], cmap=cm.binary)"
   ]
  },
  {
   "cell_type": "code",
   "execution_count": 49,
   "metadata": {
    "collapsed": false
   },
   "outputs": [
    {
     "data": {
      "text/plain": [
       "(28, 28)"
      ]
     },
     "execution_count": 49,
     "metadata": {},
     "output_type": "execute_result"
    }
   ],
   "source": [
    "X_train[0][0].shape"
   ]
  },
  {
   "cell_type": "code",
   "execution_count": 41,
   "metadata": {
    "collapsed": false
   },
   "outputs": [
    {
     "name": "stdout",
     "output_type": "stream",
     "text": [
      "# Neural Network with 160362 learnable parameters\n",
      "\n",
      "## Layer information\n",
      "\n",
      "  #  name      size\n",
      "---  --------  --------\n",
      "  0  input     1x28x28\n",
      "  1  conv2d1   32x24x24\n",
      "  2  maxpool1  32x12x12\n",
      "  3  conv2d2   32x8x8\n",
      "  4  maxpool2  32x4x4\n",
      "  5  dropout1  32x4x4\n",
      "  6  dense     256\n",
      "  7  dropout2  256\n",
      "  8  output    10\n",
      "\n",
      "  epoch    trn loss    val loss    trn/val    valid acc  dur\n",
      "-------  ----------  ----------  ---------  -----------  -----\n",
      "      1     \u001b[36m0.80868\u001b[0m     \u001b[32m0.16035\u001b[0m    5.04335      0.95502  3.65s\n",
      "      2     \u001b[36m0.25838\u001b[0m     \u001b[32m0.10674\u001b[0m    2.42076      0.96742  3.52s\n",
      "      3     \u001b[36m0.18690\u001b[0m     \u001b[32m0.08346\u001b[0m    2.23949      0.97501  3.44s\n",
      "      4     \u001b[36m0.15517\u001b[0m     \u001b[32m0.06841\u001b[0m    2.26814      0.97961  3.70s\n",
      "      5     \u001b[36m0.13445\u001b[0m     \u001b[32m0.06172\u001b[0m    2.17842      0.98131  3.68s\n",
      "      6     \u001b[36m0.12000\u001b[0m     \u001b[32m0.05642\u001b[0m    2.12678      0.98311  3.83s\n",
      "      7     \u001b[36m0.10874\u001b[0m     \u001b[32m0.05535\u001b[0m    1.96470      0.98401  3.44s\n",
      "      8     \u001b[36m0.09943\u001b[0m     \u001b[32m0.05130\u001b[0m    1.93825      0.98481  3.43s\n",
      "      9     \u001b[36m0.09688\u001b[0m     \u001b[32m0.04933\u001b[0m    1.96384      0.98491  3.44s\n",
      "     10     \u001b[36m0.09022\u001b[0m     \u001b[32m0.04740\u001b[0m    1.90349      0.98551  3.45s\n",
      "     11     \u001b[36m0.08800\u001b[0m     \u001b[32m0.04466\u001b[0m    1.97032      0.98681  3.44s\n",
      "     12     \u001b[36m0.07828\u001b[0m     0.04511    1.73549      0.98611  3.43s\n",
      "     13     \u001b[36m0.07681\u001b[0m     \u001b[32m0.04400\u001b[0m    1.74559      0.98671  3.46s\n",
      "     14     \u001b[36m0.07528\u001b[0m     \u001b[32m0.03983\u001b[0m    1.88990      0.98871  3.45s\n",
      "     15     \u001b[36m0.07026\u001b[0m     0.04039    1.73929      0.98811  3.45s\n",
      "     16     \u001b[36m0.06879\u001b[0m     \u001b[32m0.03912\u001b[0m    1.75871      0.98821  3.46s\n",
      "     17     \u001b[36m0.06764\u001b[0m     0.04032    1.67756      0.98871  3.45s\n",
      "     18     \u001b[36m0.06307\u001b[0m     0.03954    1.59517      0.98811  3.45s\n",
      "     19     \u001b[36m0.06120\u001b[0m     \u001b[32m0.03826\u001b[0m    1.59951      0.98921  3.45s\n",
      "     20     \u001b[36m0.05761\u001b[0m     \u001b[32m0.03662\u001b[0m    1.57335      0.98881  3.46s\n"
     ]
    }
   ],
   "source": [
    "net1 = NeuralNet(\n",
    "    layers=[('input', layers.InputLayer),\n",
    "            ('conv2d1', layers.Conv2DLayer),\n",
    "            ('maxpool1', layers.MaxPool2DLayer),\n",
    "            ('conv2d2', layers.Conv2DLayer),\n",
    "            ('maxpool2', layers.MaxPool2DLayer),\n",
    "            ('dropout1', layers.DropoutLayer),\n",
    "            ('dense', layers.DenseLayer),\n",
    "            ('dropout2', layers.DropoutLayer),\n",
    "            ('output', layers.DenseLayer),\n",
    "            ],\n",
    "    # input layer\n",
    "    input_shape=(None, 1, 28, 28),\n",
    "    # layer conv2d1\n",
    "    conv2d1_num_filters=32,\n",
    "    conv2d1_filter_size=(5, 5),\n",
    "    conv2d1_nonlinearity=lasagne.nonlinearities.rectify,\n",
    "    conv2d1_W=lasagne.init.GlorotUniform(),  \n",
    "    # layer maxpool1\n",
    "    maxpool1_pool_size=(2, 2),    \n",
    "    # layer conv2d2\n",
    "    conv2d2_num_filters=32,\n",
    "    conv2d2_filter_size=(5, 5),\n",
    "    conv2d2_nonlinearity=lasagne.nonlinearities.rectify,\n",
    "    # layer maxpool2\n",
    "    maxpool2_pool_size=(2, 2),\n",
    "    # dropout1\n",
    "    dropout1_p=0.5,    \n",
    "    # dense\n",
    "    dense_num_units=256,\n",
    "    dense_nonlinearity=lasagne.nonlinearities.rectify,    \n",
    "    # dropout2\n",
    "    dropout2_p=0.5,    \n",
    "    # output\n",
    "    output_nonlinearity=lasagne.nonlinearities.softmax,\n",
    "    output_num_units=10,\n",
    "    # optimization method params\n",
    "    update=nesterov_momentum,\n",
    "    update_learning_rate=0.01,\n",
    "    update_momentum=0.9,\n",
    "    max_epochs=20,\n",
    "    verbose=1,\n",
    "    )\n",
    "\n",
    "# Train the network\n",
    "nn = net1.fit(X_train, y_train)"
   ]
  },
  {
   "cell_type": "code",
   "execution_count": 42,
   "metadata": {
    "collapsed": true
   },
   "outputs": [],
   "source": [
    "preds = net1.predict(X_test)"
   ]
  },
  {
   "cell_type": "code",
   "execution_count": 43,
   "metadata": {
    "collapsed": false
   },
   "outputs": [
    {
     "data": {
      "image/png": "[encoded data removed]",
      "text/plain": [
       "<matplotlib.figure.Figure at 0x7f784fc84910>"
      ]
     },
     "metadata": {},
     "output_type": "display_data"
    }
   ],
   "source": [
    "cm = confusion_matrix(y_test, preds)\n",
    "plt.matshow(cm)\n",
    "plt.title('Confusion matrix')\n",
    "plt.colorbar()\n",
    "plt.ylabel('True label')\n",
    "plt.xlabel('Predicted label')\n",
    "plt.show()"
   ]
  },
  {
   "cell_type": "code",
   "execution_count": 44,
   "metadata": {
    "collapsed": false
   },
   "outputs": [],
   "source": [
    "from pandas_ml import ConfusionMatrix"
   ]
  },
  {
   "cell_type": "code",
   "execution_count": 45,
   "metadata": {
    "collapsed": true
   },
   "outputs": [],
   "source": [
    "cm2 = ConfusionMatrix(y_test,preds)"
   ]
  },
  {
   "cell_type": "code",
   "execution_count": 46,
   "metadata": {
    "collapsed": false
   },
   "outputs": [
    {
     "name": "stdout",
     "output_type": "stream",
     "text": [
      "Confusion Matrix:\n",
      "\n",
      "Predicted    0     1     2     3    4    5    6     7    8    9  __all__\n",
      "Actual                                                                  \n",
      "0          976     0     0     0    0    0    3     1    0    0      980\n",
      "1            0  1127     2     2    0    0    1     2    1    0     1135\n",
      "2            1     0  1028     0    0    0    0     2    1    0     1032\n",
      "3            0     0     2  1004    0    2    0     1    1    0     1010\n",
      "4            0     0     0     0  978    0    1     0    0    3      982\n",
      "5            1     0     0     5    0  883    1     1    0    1      892\n",
      "6            4     1     0     0    1    2  950     0    0    0      958\n",
      "7            0     2     4     0    0    0    0  1020    0    2     1028\n",
      "8            1     0     2     0    1    1    1     0  967    1      974\n",
      "9            2     0     0     1    8    3    0     4    1  990     1009\n",
      "__all__    985  1130  1038  1012  988  891  957  1031  971  997    10000\n",
      "\n",
      "\n",
      "Overall Statistics:\n",
      "\n",
      "Accuracy: 0.9923\n",
      "95% CI: (0.99038558889701211, 0.99391864056645363)\n",
      "No Information Rate: ToDo\n",
      "P-Value [Acc > NIR]: 0.0\n",
      "Kappa: 0.991441156422\n",
      "Mcnemar's Test P-Value: ToDo\n",
      "\n",
      "\n",
      "Class Statistics:\n",
      "\n",
      "Classes                                          0            1            2  \\\n",
      "Population                                   10000        10000        10000   \n",
      "P: Condition positive                          980         1135         1032   \n",
      "N: Condition negative                         9020         8865         8968   \n",
      "Test outcome positive                          985         1130         1038   \n",
      "Test outcome negative                         9015         8870         8962   \n",
      "TP: True Positive                              976         1127         1028   \n",
      "TN: True Negative                             9011         8862         8958   \n",
      "FP: False Positive                               9            3           10   \n",
      "FN: False Negative                               4            8            4   \n",
      "TPR: (Sensitivity, hit rate, recall)      0.995918     0.992952     0.996124   \n",
      "TNR=SPC: (Specificity)                    0.999002     0.999662     0.998885   \n",
      "PPV: Pos Pred Value (Precision)           0.990863     0.997345     0.990366   \n",
      "NPV: Neg Pred Value                       0.999556     0.999098     0.999554   \n",
      "FPR: False-out                         0.000997783  0.000338409   0.00111508   \n",
      "FDR: False Discovery Rate               0.00913706   0.00265487   0.00963391   \n",
      "FNR: Miss Rate                          0.00408163   0.00704846   0.00387597   \n",
      "ACC: Accuracy                               0.9987       0.9989       0.9986   \n",
      "F1 score                                  0.993384     0.995143     0.993237   \n",
      "MCC: Matthews correlation coefficient     0.992667     0.994526     0.992461   \n",
      "Informedness                              0.994921     0.992613     0.995009   \n",
      "Markedness                                0.990419     0.996443      0.98992   \n",
      "Prevalence                                   0.098       0.1135       0.1032   \n",
      "LR+: Positive likelihood ratio             998.132      2934.17      893.324   \n",
      "LR-: Negative likelihood ratio          0.00408571   0.00705084    0.0038803   \n",
      "DOR: Diagnostic odds ratio                  244298       416145       230221   \n",
      "FOR: False omission rate               0.000443705  0.000901917  0.000446329   \n",
      "\n",
      "Classes                                          3            4            5  \\\n",
      "Population                                   10000        10000        10000   \n",
      "P: Condition positive                         1010          982          892   \n",
      "N: Condition negative                         8990         9018         9108   \n",
      "Test outcome positive                         1012          988          891   \n",
      "Test outcome negative                         8988         9012         9109   \n",
      "TP: True Positive                             1004          978          883   \n",
      "TN: True Negative                             8982         9008         9100   \n",
      "FP: False Positive                               8           10            8   \n",
      "FN: False Negative                               6            4            9   \n",
      "TPR: (Sensitivity, hit rate, recall)      0.994059     0.995927      0.98991   \n",
      "TNR=SPC: (Specificity)                     0.99911     0.998891     0.999122   \n",
      "PPV: Pos Pred Value (Precision)           0.992095     0.989879     0.991021   \n",
      "NPV: Neg Pred Value                       0.999332     0.999556     0.999012   \n",
      "FPR: False-out                         0.000889878   0.00110889  0.000878349   \n",
      "FDR: False Discovery Rate               0.00790514    0.0101215   0.00897868   \n",
      "FNR: Miss Rate                          0.00594059   0.00407332    0.0100897   \n",
      "ACC: Accuracy                               0.9986       0.9986       0.9983   \n",
      "F1 score                                  0.993076     0.992893     0.990466   \n",
      "MCC: Matthews correlation coefficient     0.992298     0.992123     0.989533   \n",
      "Informedness                               0.99317     0.994818     0.989032   \n",
      "Markedness                                0.991427     0.989435     0.990033   \n",
      "Prevalence                                   0.101       0.0982       0.0892   \n",
      "LR+: Positive likelihood ratio             1117.07      898.127      1127.01   \n",
      "LR-: Negative likelihood ratio          0.00594589   0.00407784    0.0100986   \n",
      "DOR: Diagnostic odds ratio                  187873       220246       111601   \n",
      "FOR: False omission rate               0.000667557  0.000443853  0.000988034   \n",
      "\n",
      "Classes                                          6            7            8  \\\n",
      "Population                                   10000        10000        10000   \n",
      "P: Condition positive                          958         1028          974   \n",
      "N: Condition negative                         9042         8972         9026   \n",
      "Test outcome positive                          957         1031          971   \n",
      "Test outcome negative                         9043         8969         9029   \n",
      "TP: True Positive                              950         1020          967   \n",
      "TN: True Negative                             9035         8961         9022   \n",
      "FP: False Positive                               7           11            4   \n",
      "FN: False Negative                               8            8            7   \n",
      "TPR: (Sensitivity, hit rate, recall)      0.991649     0.992218     0.992813   \n",
      "TNR=SPC: (Specificity)                    0.999226     0.998774     0.999557   \n",
      "PPV: Pos Pred Value (Precision)           0.992685     0.989331     0.995881   \n",
      "NPV: Neg Pred Value                       0.999115     0.999108     0.999225   \n",
      "FPR: False-out                         0.000774165   0.00122604  0.000443164   \n",
      "FDR: False Discovery Rate               0.00731452    0.0106693   0.00411946   \n",
      "FNR: Miss Rate                          0.00835073    0.0077821   0.00718686   \n",
      "ACC: Accuracy                               0.9985       0.9981       0.9989   \n",
      "F1 score                                  0.992167     0.990772     0.994344   \n",
      "MCC: Matthews correlation coefficient     0.991338     0.989715     0.993737   \n",
      "Informedness                              0.990875     0.990992      0.99237   \n",
      "Markedness                                0.991801     0.988439     0.995105   \n",
      "Prevalence                                  0.0958       0.1028       0.0974   \n",
      "LR+: Positive likelihood ratio             1280.93      809.289      2240.28   \n",
      "LR-: Negative likelihood ratio           0.0083572   0.00779165   0.00719004   \n",
      "DOR: Diagnostic odds ratio                  153272       103866       311581   \n",
      "FOR: False omission rate               0.000884662  0.000891961   0.00077528   \n",
      "\n",
      "Classes                                          9  \n",
      "Population                                   10000  \n",
      "P: Condition positive                         1009  \n",
      "N: Condition negative                         8991  \n",
      "Test outcome positive                          997  \n",
      "Test outcome negative                         9003  \n",
      "TP: True Positive                              990  \n",
      "TN: True Negative                             8984  \n",
      "FP: False Positive                               7  \n",
      "FN: False Negative                              19  \n",
      "TPR: (Sensitivity, hit rate, recall)      0.981169  \n",
      "TNR=SPC: (Specificity)                    0.999221  \n",
      "PPV: Pos Pred Value (Precision)           0.992979  \n",
      "NPV: Neg Pred Value                        0.99789  \n",
      "FPR: False-out                         0.000778556  \n",
      "FDR: False Discovery Rate               0.00702106  \n",
      "FNR: Miss Rate                           0.0188305  \n",
      "ACC: Accuracy                               0.9974  \n",
      "F1 score                                  0.987039  \n",
      "MCC: Matthews correlation coefficient     0.985616  \n",
      "Informedness                              0.980391  \n",
      "Markedness                                0.990869  \n",
      "Prevalence                                  0.1009  \n",
      "LR+: Positive likelihood ratio             1260.24  \n",
      "LR-: Negative likelihood ratio           0.0188452  \n",
      "DOR: Diagnostic odds ratio                 66873.4  \n",
      "FOR: False omission rate                0.00211041  \n"
     ]
    }
   ],
   "source": [
    "cm2.print_stats()"
   ]
  },
  {
   "cell_type": "code",
   "execution_count": 19,
   "metadata": {
    "collapsed": false
   },
   "outputs": [
    {
     "data": {
      "text/plain": [
       "<module 'matplotlib.pyplot' from '/home/ricky/anaconda2/lib/python2.7/site-packages/matplotlib/pyplot.pyc'>"
      ]
     },
     "execution_count": 19,
     "metadata": {},
     "output_type": "execute_result"
    },
    {
     "data": {
      "image/png": "[encoded data removed]",
      "text/plain": [
       "<matplotlib.figure.Figure at 0x7f7834d9e6d0>"
      ]
     },
     "metadata": {},
     "output_type": "display_data"
    }
   ],
   "source": [
    "visualize.plot_conv_weights(net1.layers_['conv2d1'])"
   ]
  },
  {
   "cell_type": "code",
   "execution_count": 20,
   "metadata": {
    "collapsed": true
   },
   "outputs": [],
   "source": [
    "dense_layer = layers.get_output(net1.layers_['dense'], deterministic=True)\n",
    "output_layer = layers.get_output(net1.layers_['output'], deterministic=True)\n",
    "input_var = net1.layers_['input'].input_var\n",
    "\n",
    "f_output = theano.function([input_var], output_layer)\n",
    "f_dense = theano.function([input_var], dense_layer)"
   ]
  },
  {
   "cell_type": "code",
   "execution_count": 22,
   "metadata": {
    "collapsed": false
   },
   "outputs": [
    {
     "name": "stdout",
     "output_type": "stream",
     "text": [
      "500 loops, best of 3: 378 µs per loop\n"
     ]
    }
   ],
   "source": [
    "instance = X_test[0][None, :, :]\n",
    "%timeit -n 500 f_output(instance)"
   ]
  },
  {
   "cell_type": "code",
   "execution_count": 23,
   "metadata": {
    "collapsed": false
   },
   "outputs": [
    {
     "data": {
      "text/plain": [
       "<Container object of 10 artists>"
      ]
     },
     "execution_count": 23,
     "metadata": {},
     "output_type": "execute_result"
    },
    {
     "data": {
      "image/png": "[encoded data removed]",
      "text/plain": [
       "<matplotlib.figure.Figure at 0x7f7834d22a10>"
      ]
     },
     "metadata": {},
     "output_type": "display_data"
    }
   ],
   "source": [
    "pred = f_output(instance)\n",
    "N = pred.shape[1]\n",
    "plt.bar(range(N), pred.ravel())"
   ]
  },
  {
   "cell_type": "code",
   "execution_count": 24,
   "metadata": {
    "collapsed": false
   },
   "outputs": [
    {
     "data": {
      "text/plain": [
       "<Container object of 256 artists>"
      ]
     },
     "execution_count": 24,
     "metadata": {},
     "output_type": "execute_result"
    },
    {
     "data": {
      "image/png": "[encoded data removed]",
      "text/plain": [
       "<matplotlib.figure.Figure at 0x7f7833bbb910>"
      ]
     },
     "metadata": {},
     "output_type": "display_data"
    }
   ],
   "source": [
    "pred = f_dense(instance)\n",
    "N = pred.shape[1]\n",
    "plt.bar(range(N), pred.ravel())"
   ]
  },
  {
   "cell_type": "code",
   "execution_count": null,
   "metadata": {
    "collapsed": true
   },
   "outputs": [],
   "source": []
  }
 ],
 "metadata": {
  "anaconda-cloud": {},
  "kernelspec": {
   "display_name": "Python [default]",
   "language": "python",
   "name": "python2"
  },
  "language_info": {
   "codemirror_mode": {
    "name": "ipython",
    "version": 2
   },
   "file_extension": ".py",
   "mimetype": "text/x-python",
   "name": "python",
   "nbconvert_exporter": "python",
   "pygments_lexer": "ipython2",
   "version": "2.7.12"
  }
 },
 "nbformat": 4,
 "nbformat_minor": 1
}
